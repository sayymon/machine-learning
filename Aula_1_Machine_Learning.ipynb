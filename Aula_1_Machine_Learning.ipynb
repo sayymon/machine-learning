{
  "nbformat": 4,
  "nbformat_minor": 0,
  "metadata": {
    "colab": {
      "name": "Aula 1 - Machine Learning.ipynb",
      "provenance": [],
      "collapsed_sections": [],
      "authorship_tag": "ABX9TyNbwRLnDIn6KPHrYB+tZvqU",
      "include_colab_link": true
    },
    "kernelspec": {
      "name": "python3",
      "display_name": "Python 3"
    }
  },
  "cells": [
    {
      "cell_type": "markdown",
      "metadata": {
        "id": "view-in-github",
        "colab_type": "text"
      },
      "source": [
        "<a href=\"https://colab.research.google.com/github/sayymon/machine-learning/blob/master/Aula_1_Machine_Learning.ipynb\" target=\"_parent\"><img src=\"https://colab.research.google.com/assets/colab-badge.svg\" alt=\"Open In Colab\"/></a>"
      ]
    },
    {
      "cell_type": "markdown",
      "metadata": {
        "id": "zLAjmZOGqEwN",
        "colab_type": "text"
      },
      "source": [
        "*Classificação* em machine learning considera as caracteristicas features para entendimento treino e apreendizado"
      ]
    },
    {
      "cell_type": "markdown",
      "metadata": {
        "id": "rA-dKBlQqy66",
        "colab_type": "text"
      },
      "source": [
        "Python sklearn\n",
        "\n",
        "1.Features \n",
        "2.Itens \n",
        "3.Treino do estimador \n",
        "4.Testes \n",
        "5.Taxa de acerto \n",
        "6.Otimização \n",
        "7.Previsão"
      ]
    },
    {
      "cell_type": "code",
      "metadata": {
        "id": "Ac_GB17OsL_g",
        "colab_type": "code",
        "colab": {}
      },
      "source": [
        "# features\n",
        "# pelo Longo?\n",
        "# perna curta?\n",
        "# faz auau?\n",
        "porco1 = [0,1,0]\n",
        "porco2 = [0,1,1]\n",
        "porco3 = [1,1,0]\n",
        "\n",
        "cachorro1 = [0,1,1]\n",
        "cachorro2 = [1,0,1]\n",
        "cachorro3 = [1,1,1]\n",
        "\n",
        "train_x = [porco1,porco2,porco3,cachorro1,cachorro2,cachorro3]\n",
        "labels = [1,1,1,0,0,0]\n",
        "\n"
      ],
      "execution_count": 0,
      "outputs": []
    },
    {
      "cell_type": "code",
      "metadata": {
        "id": "hC38wts_s5bl",
        "colab_type": "code",
        "colab": {
          "base_uri": "https://localhost:8080/",
          "height": 51
        },
        "outputId": "35997c92-40e7-453a-aeba-8eaa1db2ceda"
      },
      "source": [
        "from sklearn.svm import LinearSVC\n",
        "\n",
        "#Biblioteca de aprendizado de maquina\n",
        "model = LinearSVC() # é a classe que possibilita a criação de um modeloe.\n",
        "#imputa os dados e os tipos dos dados supervisionados\n",
        "model.fit(train_x,labels)\n",
        "\n",
        "animal_misterioso = [1,1,1]\n",
        "\n",
        "#realiza a analise baseada nas informações das classes pré analisadas\n",
        "model.predict([animal_misterioso])\n",
        "\n",
        "misterio1 = [1,1,1]\n",
        "misterio2 = [1,1,0]\n",
        "misterio3 = [0,1,1]\n",
        "\n",
        "teste_x = [misterio1, misterio2, misterio3]\n",
        "teste_y = [0, 1, 1]\n",
        "\n",
        "previsoes = model.predict(teste_x)\n",
        "\n",
        "corretos = (previsoes == teste_y).sum()\n",
        "total = len(teste_x)\n",
        "taxa_de_acerto = corretos/total \n",
        "print(\"Taxa de acerto: \", taxa_de_acerto * 100)\n",
        "\n",
        "#Lib para avaliar a média de acerto do modelo\n",
        "from sklearn.metrics import accuracy_score\n",
        "\n",
        "taxa_de_acerto = accuracy_score(teste_y, previsoes)\n",
        "print(\"Taxa de acerto\", taxa_de_acerto * 100)"
      ],
      "execution_count": 3,
      "outputs": [
        {
          "output_type": "stream",
          "text": [
            "Taxa de acerto:  66.66666666666666\n",
            "Taxa de acerto 66.66666666666666\n"
          ],
          "name": "stdout"
        }
      ]
    },
    {
      "cell_type": "code",
      "metadata": {
        "id": "IlxsnH-KtpLW",
        "colab_type": "code",
        "colab": {}
      },
      "source": [
        ""
      ],
      "execution_count": 0,
      "outputs": []
    }
  ]
}